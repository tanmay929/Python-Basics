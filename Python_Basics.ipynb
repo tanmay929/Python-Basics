{
  "nbformat": 4,
  "nbformat_minor": 0,
  "metadata": {
    "colab": {
      "provenance": []
    },
    "kernelspec": {
      "name": "python3",
      "display_name": "Python 3"
    },
    "language_info": {
      "name": "python"
    }
  },
  "cells": [
    {
      "cell_type": "code",
      "execution_count": null,
      "metadata": {
        "id": "flPNbJbMuJ7Y"
      },
      "outputs": [],
      "source": []
    },
    {
      "cell_type": "markdown",
      "source": [
        "#Python Basics\n"
      ],
      "metadata": {
        "id": "ifTwVVOruL9R"
      }
    },
    {
      "cell_type": "code",
      "source": [],
      "metadata": {
        "id": "LqWePf1RuTTm"
      },
      "execution_count": null,
      "outputs": []
    },
    {
      "cell_type": "markdown",
      "source": [
        "1.What is Python, and why is it popular?\n",
        " - Python is a programming language which is used to interact with a computer.\n",
        "- It is popular because it is easy to understand , it has lots of libraries , huge active community.\n",
        "\n",
        "2.What is an interpreter in Python?\n",
        " - Interpreter in python means that which reads the program line by line and helps to communicate with computers.\n",
        "\n",
        " 3.What are pre-defined keywords in Python?\n",
        "  - Predefined keywords in python means thoese words that hold a special meaning and have specific purpose in python language.\n",
        "\n",
        "4.Can keywords be used as variable names?\n",
        " - No we cannot used keywords as a variable name.\n",
        "\n",
        "5.What is mutability in Python?\n",
        " - Mutability in python means that values or objects can be changed after they are created.\n",
        "\n",
        "6.Why are lists mutable, but tuples are immutable?\n",
        " - lists are mutable because we can change the elements in list after they are created.\n",
        " - tuples are immutable because we cannot change the elements in tuples after they created.\n",
        "\n",
        "7.What is the difference between “==” and “is” operators in Python?\n",
        " - The \"==\" is a Equality operator which checks that the two objects have same content.It compares the values of two objects.\n",
        " - The \"is\" is an Identity operator which compares the objects memory address and checks if two variables refer to the same object in memory.\n",
        "\n",
        "8.What are logical operators in Python?\n",
        " - In python there are 3 logical operators :\n",
        "  - 1) and operator (&): It returns true if both the operands are true otherwise false.\n",
        "  - 2) or operator (|): It returns true if at least any one operand is true if both the operands are false then returns false.\n",
        "  - 3) not operator (!): It revers the logical state of operands.\n",
        "\n",
        "9.What is type casting in Python?\n",
        " - Type casting means that changing the data type.\n",
        "\n",
        "10.What is the difference between implicit and explicit type casting?\n",
        " - In the implicit type casting python understand the standard datatypes without declaring the datatype.\n",
        " - In explicit type casting we convert the data type using inbuilt functions like str,int,float,bool.\n",
        "\n",
        "11.What is the purpose of conditional statements in Python?\n",
        " - The purpose of conditional statements are it helps to code decisions based on some preconditions.\n",
        "\n",
        "12.How does the elif statement work?\n",
        " - In the elif statement we put the condition like the if case and in this we put the multiple elif blocks means multiple conditions.\n",
        "\n",
        "13.What is the difference between for and while loops?\n",
        " - In for loop it iterate over a sequence of elements means it will go to the one by one element and print it.\n",
        " - While loop repeteadly executed a block of code untill a condition is met.\n",
        "\n",
        "14.Describe a scenario where a while loop is more suitable than a for loop?\n",
        " - We take the scenario that we want to prompt a user for input the number which is valid and between the 1 and 10.\n",
        " - In this scenario while loop is more suitable than for loop because while loop has the flexible conditon means allowing the loop to run indefinitely until a specific condition is met.\n",
        ""
      ],
      "metadata": {
        "id": "lk8XzuaPuUpA"
      }
    },
    {
      "cell_type": "code",
      "source": [
        "# 1.Write a Python program to print \"Hello, World!\"\n",
        "print(\"Hello, World!\")"
      ],
      "metadata": {
        "id": "N5g_6n3B9B3E",
        "outputId": "94da730e-e09c-4904-fde9-f44929afa1ec",
        "colab": {
          "base_uri": "https://localhost:8080/"
        }
      },
      "execution_count": 1,
      "outputs": [
        {
          "output_type": "stream",
          "name": "stdout",
          "text": [
            "Hello, World!\n"
          ]
        }
      ]
    },
    {
      "cell_type": "code",
      "source": [
        "# 2.Write a Python program that displays your name and age\n",
        "name = \"Tanmay\"\n",
        "age = \"21\"\n",
        "print(\"My name is\",name)\n",
        "print(\"My age is\",age)"
      ],
      "metadata": {
        "id": "plHS3SZR9g0x",
        "outputId": "6200145a-a761-4b81-e6be-4f3af1c1c9ae",
        "colab": {
          "base_uri": "https://localhost:8080/"
        }
      },
      "execution_count": 2,
      "outputs": [
        {
          "output_type": "stream",
          "name": "stdout",
          "text": [
            "My name is Tanmay\n",
            "My age is 21\n"
          ]
        }
      ]
    },
    {
      "cell_type": "code",
      "source": [
        "# 3.Write code to print all the pre-defined keywords in Python using the keyword library\n",
        "help('keywords')"
      ],
      "metadata": {
        "id": "jTmgkNDw-Jik",
        "outputId": "be7ad7a0-7308-44f4-e379-5bafd7b25923",
        "colab": {
          "base_uri": "https://localhost:8080/"
        }
      },
      "execution_count": 4,
      "outputs": [
        {
          "output_type": "stream",
          "name": "stdout",
          "text": [
            "\n",
            "Here is a list of the Python keywords.  Enter any keyword to get more help.\n",
            "\n",
            "False               class               from                or\n",
            "None                continue            global              pass\n",
            "True                def                 if                  raise\n",
            "and                 del                 import              return\n",
            "as                  elif                in                  try\n",
            "assert              else                is                  while\n",
            "async               except              lambda              with\n",
            "await               finally             nonlocal            yield\n",
            "break               for                 not                 \n",
            "\n"
          ]
        }
      ]
    },
    {
      "cell_type": "code",
      "source": [
        "# 4.Write a program that checks if a given word is a Python keyword\n"
      ],
      "metadata": {
        "id": "bDm9dBxw-5Ke"
      },
      "execution_count": 6,
      "outputs": []
    },
    {
      "cell_type": "code",
      "source": [
        "# 5.Create a list and tuple in Python, and demonstrate how attempting to change an element works differently\n",
        "#for each\n",
        "#create a list\n",
        "list = [1,23,34,54]\n",
        "#create a tuple\n",
        "tuple = (1,23,34,54)\n",
        "#attempting to change the element in list\n",
        "list[3] = 100\n",
        "#attempting to change the element in tuple it will shown an error\n",
        "print(list)\n"
      ],
      "metadata": {
        "id": "v6LKbXUUA6c-",
        "outputId": "9285b860-e68c-4ee6-ef0c-ba796ae8ec27",
        "colab": {
          "base_uri": "https://localhost:8080/"
        }
      },
      "execution_count": 7,
      "outputs": [
        {
          "output_type": "stream",
          "name": "stdout",
          "text": [
            "[1, 23, 34, 100]\n"
          ]
        }
      ]
    },
    {
      "cell_type": "code",
      "source": [
        "# 6.Write a function to demonstrate the behavior of mutable and immutable arguments\n",
        "# list shows the mutable behavior\n",
        "list = [12,\"tanmay\",67,56,32]\n",
        "list[2]\n",
        "list[2] = 100\n",
        "list\n",
        "# tuple shows the immutable behavoir is we try to cahnge it shows error\n",
        "\n"
      ],
      "metadata": {
        "id": "B0IS7XzgDKeW",
        "outputId": "daf93f2e-988f-45f2-9dbf-e84705049cbf",
        "colab": {
          "base_uri": "https://localhost:8080/"
        }
      },
      "execution_count": 11,
      "outputs": [
        {
          "output_type": "execute_result",
          "data": {
            "text/plain": [
              "[12, 'tanmay', 100, 56, 32]"
            ]
          },
          "metadata": {},
          "execution_count": 11
        }
      ]
    },
    {
      "cell_type": "code",
      "source": [
        "# 8.Write a program to demonstrate the use of logical operators\n",
        "# and operator\n",
        "a = 13\n",
        "b = 10\n",
        "if a > 4 and b <25:\n",
        "  print(\"both the conditins are true\")\n",
        "# or operator\n",
        "x = 34\n",
        "y = 1\n",
        "if x > 30 or y > 30:\n",
        "  print(\"one conditon is true\")\n",
        "# not operator\n",
        "w = True\n",
        "if not w:\n",
        "  print(True)\n",
        ""
      ],
      "metadata": {
        "id": "UnJI6HF0EeVF",
        "outputId": "f316d214-0914-45f2-c939-7f411230c601",
        "colab": {
          "base_uri": "https://localhost:8080/"
        }
      },
      "execution_count": 25,
      "outputs": [
        {
          "output_type": "stream",
          "name": "stdout",
          "text": [
            "both the conditins are true\n",
            "one conditon is true\n"
          ]
        }
      ]
    },
    {
      "cell_type": "code",
      "source": [
        "# 9.Write a Python program to convert user input from string to integer, float, and boolean types\n",
        "#string to integer\n",
        "a = \"23\"\n",
        "int(a)\n",
        "#string to float\n",
        "b = \"24\"\n",
        "float(b)\n",
        "#string to boolean\n",
        "c = \"0\"\n",
        "bool(c)"
      ],
      "metadata": {
        "id": "vv5pxWy9GdHu",
        "outputId": "4ce2d840-637a-471a-dbbb-8752fc37ec9a",
        "colab": {
          "base_uri": "https://localhost:8080/"
        }
      },
      "execution_count": 28,
      "outputs": [
        {
          "output_type": "execute_result",
          "data": {
            "text/plain": [
              "True"
            ]
          },
          "metadata": {},
          "execution_count": 28
        }
      ]
    },
    {
      "cell_type": "code",
      "source": [
        "# 10.Write code to demonstrate type casting with list elements\n",
        "list = [\"1\",\"45\",\"47\",\"43\"]\n",
        "for i in range(len(list)):\n",
        "  list[i] = int(list[i])\n",
        "  print(list)\n"
      ],
      "metadata": {
        "id": "Zw1bMOQDJU83",
        "outputId": "941a3f7a-2831-4381-80c6-6794e05b2930",
        "colab": {
          "base_uri": "https://localhost:8080/"
        }
      },
      "execution_count": 30,
      "outputs": [
        {
          "output_type": "stream",
          "name": "stdout",
          "text": [
            "[1, '45', '47', '43']\n",
            "[1, 45, '47', '43']\n",
            "[1, 45, 47, '43']\n",
            "[1, 45, 47, 43]\n"
          ]
        }
      ]
    },
    {
      "cell_type": "code",
      "source": [],
      "metadata": {
        "id": "EqLoxcdQMpLD"
      },
      "execution_count": null,
      "outputs": []
    },
    {
      "cell_type": "code",
      "source": [
        "# 11.Write a program that checks if a number is positive, negative, or zero\n",
        "num = int(input(\"Enter number:\"))\n",
        "if num > 0:\n",
        "  print(num,\"positive number\")\n",
        "elif num < 0:\n",
        "  print(num,\"negative number\")\n",
        "else:\n",
        "  print(\"number is 0\")"
      ],
      "metadata": {
        "id": "B1K14adkK-zL",
        "outputId": "4c12f9a7-3744-48f5-d562-a0125f457a25",
        "colab": {
          "base_uri": "https://localhost:8080/"
        }
      },
      "execution_count": 38,
      "outputs": [
        {
          "output_type": "stream",
          "name": "stdout",
          "text": [
            "Enter number:6\n",
            "6 positive number\n"
          ]
        }
      ]
    },
    {
      "cell_type": "code",
      "source": [
        "#12. Write a for loop to print numbers from 1 to 100\n",
        "n = 10\n",
        "i = 1\n",
        "while i <= n:\n",
        "  print(i)\n",
        "  i = i+1"
      ],
      "metadata": {
        "id": "6X_K7Dw_MeCa",
        "outputId": "80e361e7-4766-442e-ac08-62ab33d62317",
        "colab": {
          "base_uri": "https://localhost:8080/"
        }
      },
      "execution_count": 39,
      "outputs": [
        {
          "output_type": "stream",
          "name": "stdout",
          "text": [
            "1\n",
            "2\n",
            "3\n",
            "4\n",
            "5\n",
            "6\n",
            "7\n",
            "8\n",
            "9\n",
            "10\n"
          ]
        }
      ]
    },
    {
      "cell_type": "code",
      "source": [
        "#13.Write a Python program to find the sum of all even numbers between 1 and 50\n",
        "sum = 0\n",
        "for i in range(2,51,2):\n",
        "  sum += i\n",
        "  print(\"sum of all even no between 1 and 50:\",sum)"
      ],
      "metadata": {
        "id": "DfR0nQPMN2v4",
        "outputId": "da100d6d-5a5e-493d-8590-65bb395eb7df",
        "colab": {
          "base_uri": "https://localhost:8080/"
        }
      },
      "execution_count": 40,
      "outputs": [
        {
          "output_type": "stream",
          "name": "stdout",
          "text": [
            "sum of all even no between 1 and 50: 2\n",
            "sum of all even no between 1 and 50: 6\n",
            "sum of all even no between 1 and 50: 12\n",
            "sum of all even no between 1 and 50: 20\n",
            "sum of all even no between 1 and 50: 30\n",
            "sum of all even no between 1 and 50: 42\n",
            "sum of all even no between 1 and 50: 56\n",
            "sum of all even no between 1 and 50: 72\n",
            "sum of all even no between 1 and 50: 90\n",
            "sum of all even no between 1 and 50: 110\n",
            "sum of all even no between 1 and 50: 132\n",
            "sum of all even no between 1 and 50: 156\n",
            "sum of all even no between 1 and 50: 182\n",
            "sum of all even no between 1 and 50: 210\n",
            "sum of all even no between 1 and 50: 240\n",
            "sum of all even no between 1 and 50: 272\n",
            "sum of all even no between 1 and 50: 306\n",
            "sum of all even no between 1 and 50: 342\n",
            "sum of all even no between 1 and 50: 380\n",
            "sum of all even no between 1 and 50: 420\n",
            "sum of all even no between 1 and 50: 462\n",
            "sum of all even no between 1 and 50: 506\n",
            "sum of all even no between 1 and 50: 552\n",
            "sum of all even no between 1 and 50: 600\n",
            "sum of all even no between 1 and 50: 650\n"
          ]
        }
      ]
    },
    {
      "cell_type": "code",
      "source": [
        "#14.Write a program to reverse a string using a while loop\n",
        "name = str((input(\"Enter the name:\")))\n",
        "i = len(name)\n",
        "while i in range(len(name)) > 0:\n",
        "  print(name[i], end = '')\n",
        "  i = i -1"
      ],
      "metadata": {
        "id": "r5QGQ0CnPIY3",
        "outputId": "46242c65-9896-4dbc-87f4-933c206daf6b",
        "colab": {
          "base_uri": "https://localhost:8080/"
        }
      },
      "execution_count": 44,
      "outputs": [
        {
          "name": "stdout",
          "output_type": "stream",
          "text": [
            "Enter the name:tanmay\n"
          ]
        }
      ]
    },
    {
      "cell_type": "code",
      "source": [
        "#15.Write a Python program to calculate the factorial of a number provided by the user using a while loop.\n",
        "n = int(input(\"Enter number:\"))\n",
        "fact = 1\n",
        "while n > 1:\n",
        "  fact *= n\n",
        "  n -= 1\n",
        "  print(\"factorial :\",fact)"
      ],
      "metadata": {
        "id": "BUzF4abEQBlO",
        "outputId": "2bf6d443-7100-4417-cd9e-05b9e1f91920",
        "colab": {
          "base_uri": "https://localhost:8080/"
        }
      },
      "execution_count": 45,
      "outputs": [
        {
          "output_type": "stream",
          "name": "stdout",
          "text": [
            "Enter number:56\n",
            "factorial : 56\n",
            "factorial : 3080\n",
            "factorial : 166320\n",
            "factorial : 8814960\n",
            "factorial : 458377920\n",
            "factorial : 23377273920\n",
            "factorial : 1168863696000\n",
            "factorial : 57274321104000\n",
            "factorial : 2749167412992000\n",
            "factorial : 129210868410624000\n",
            "factorial : 5943699946888704000\n",
            "factorial : 267466497609991680000\n",
            "factorial : 11768525894839633920000\n",
            "factorial : 506046613478104258560000\n",
            "factorial : 21253957766080378859520000\n",
            "factorial : 871412268409295533240320000\n",
            "factorial : 34856490736371821329612800000\n",
            "factorial : 1359403138718501031854899200000\n",
            "factorial : 51657319271303039210486169600000\n",
            "factorial : 1911320813038212450787988275200000\n",
            "factorial : 68807549269375648228367577907200000\n",
            "factorial : 2408264224428147687992865226752000000\n",
            "factorial : 81880983630557021391757417709568000000\n",
            "factorial : 2702072459808381705927994784415744000000\n",
            "factorial : 86466318713868214589695833101303808000000\n",
            "factorial : 2680455880129914652280570826140418048000000\n",
            "factorial : 80413676403897439568417124784212541440000000\n",
            "factorial : 2331996615713025747484096618742163701760000000\n",
            "factorial : 65295905239964720929554705324780583649280000000\n",
            "factorial : 1762989441479047465097977043769075758530560000000\n",
            "factorial : 45837725478455234092547403137995969721794560000000\n",
            "factorial : 1145943136961380852313685078449899243044864000000000\n",
            "factorial : 27502635287073140455528441882797581833076736000000000\n",
            "factorial : 632560611602682230477154163304344382160764928000000000\n",
            "factorial : 13916333455259009070497391592695576407536828416000000000\n",
            "factorial : 292243002560439190480445223446607104558273396736000000000\n",
            "factorial : 5844860051208783809608904468932142091165467934720000000000\n",
            "factorial : 111052340972966892382569184909710699732143890759680000000000\n",
            "factorial : 1998942137513404062886245328374792595178590033674240000000000\n",
            "factorial : 33982016337727869069066170582371474118036030572462080000000000\n",
            "factorial : 543712261403645905105058729317943585888576489159393280000000000\n",
            "factorial : 8155683921054688576575880939769153788328647337390899200000000000\n",
            "factorial : 114179574894765640072062333156768153036601062723472588800000000000\n",
            "factorial : 1484334473631953320936810331037985989475813815405143654400000000000\n",
            "factorial : 17812013683583439851241723972455831873709765784861723852800000000000\n",
            "factorial : 195932150519417838363658963697014150610807423633478962380800000000000\n",
            "factorial : 1959321505194178383636589636970141506108074236334789623808000000000000\n",
            "factorial : 17633893546747605452729306732731273554972668127013106614272000000000000\n",
            "factorial : 141071148373980843621834453861850188439781345016104852914176000000000000\n",
            "factorial : 987498038617865905352841177032951319078469415112733970399232000000000000\n",
            "factorial : 5924988231707195432117047062197707914470816490676403822395392000000000000\n",
            "factorial : 29624941158535977160585235310988539572354082453382019111976960000000000000\n",
            "factorial : 118499764634143908642340941243954158289416329813528076447907840000000000000\n",
            "factorial : 355499293902431725927022823731862474868248989440584229343723520000000000000\n",
            "factorial : 710998587804863451854045647463724949736497978881168458687447040000000000000\n"
          ]
        }
      ]
    },
    {
      "cell_type": "code",
      "source": [],
      "metadata": {
        "id": "j0dAA0gFSkiQ"
      },
      "execution_count": null,
      "outputs": []
    }
  ]
}